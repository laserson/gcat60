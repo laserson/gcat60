{
 "metadata": {
  "name": "",
  "signature": "sha256:cfcec57561fec8504f6e204b535ff992664fc0e95d7c9b3a2fd77f7b9ab41cd6"
 },
 "nbformat": 3,
 "nbformat_minor": 0,
 "worksheets": [
  {
   "cells": [
    {
     "cell_type": "heading",
     "level": 1,
     "metadata": {},
     "source": [
      "Downloading and initial processing of GMC data"
     ]
    },
    {
     "cell_type": "markdown",
     "metadata": {},
     "source": [
      "Here are the raw data files that are downloaded and placed in `raw/`:\n",
      "\n",
      "```\n",
      "curl http://arep.med.harvard.edu/labmeeti.html > raw/2014.html\n",
      "curl http://arep.med.harvard.edu/backup/labmeeti_2013.html > raw/2013.html\n",
      "curl http://arep.med.harvard.edu/backup/labmeeti_2012.html > raw/2012.html\n",
      "curl http://arep.med.harvard.edu/backup/labmeeti_jan11_jan12.html > raw/2011.html\n",
      "curl http://arep.med.harvard.edu/backup/labmeeti_jan10_jan11.html > raw/2010.html\n",
      "curl http://arep.med.harvard.edu/backup/labmeeti_jan09_jan10.html > raw/2009.html\n",
      "curl http://arep.med.harvard.edu/backup/labmeeti_jan08_jan09.html > raw/2008.html\n",
      "curl http://arep.med.harvard.edu/backup/labmeeti_jan06_jun08.html > raw/2006_2007.html\n",
      "curl http://arep.med.harvard.edu/backup/labmeeti_sep05_sep06.html > raw/2005_2006.html\n",
      "curl http://arep.med.harvard.edu/backup/labmeeti_mar04_jan06.html > raw/2004_2005.html\n",
      "curl http://arep.med.harvard.edu/backup/labmeeti_aug05.html > raw/2005.html\n",
      "curl http://arep.med.harvard.edu/backup/labmeeting_dec04.html > raw/2004.html\n",
      "curl http://arep.med.harvard.edu/backup/labmeeting_aug03.html > raw/2003_2.html\n",
      "curl http://arep.med.harvard.edu/backup/labmeeting_feb03.html > raw/2003_1.html\n",
      "curl http://arep.med.harvard.edu/backup/labmeeting_dec02.html > raw/2002_3.html\n",
      "curl http://arep.med.harvard.edu/backup/labmeeting_apr_oct01.html > raw/2001_2.html\n",
      "curl http://arep.med.harvard.edu/backup/labmeeting_nov_may01.html > raw/2001_1.html\n",
      "curl http://arep.med.harvard.edu/backup/labmeeting_jul00_dec00.htm > raw/2000_2.html\n",
      "curl http://arep.med.harvard.edu/backup/labmeeting_dec_aug00.html > raw/2000_1.html\n",
      "curl http://arep.med.harvard.edu/backup/labmeeting_jul_dec99.html > raw/1999.html\n",
      "curl http://arep.med.harvard.edu/backup/labmeeting_nov_apr99.html > raw/1998.html\n",
      "```"
     ]
    },
    {
     "cell_type": "markdown",
     "metadata": {},
     "source": [
      "Set up some of the utilities we'll need to generate the initial JSON objects."
     ]
    },
    {
     "cell_type": "code",
     "collapsed": false,
     "input": [
      "%matplotlib inline\n",
      "import re\n",
      "import sys\n",
      "import json\n",
      "import nltk\n",
      "from datetime import datetime\n",
      "from dateutil.parser import parse as parse_date\n",
      "from bs4 import BeautifulSoup"
     ],
     "language": "python",
     "metadata": {},
     "outputs": [],
     "prompt_number": 1
    },
    {
     "cell_type": "code",
     "collapsed": false,
     "input": [
      "lm_re_1 = re.compile('((?:Jan|Feb|Mar|Apr|May|Jun|June|Jul|July|Aug|August|Sep|Sept|Oct|Nov|Dec) [\\d]{1,2}[,\\.] [\\d]{4}) (?:Mon|Tue|Wed|Thu|Fri)[*]?(.*)')\n",
      "lm_re_2 = re.compile('([\\d]{4} (?:Jan|Feb|Mar|Apr|May|Jun|June|Jul|July|Aug|August|Sep|Sept|Oct|Nov|Dec) [\\d]{1,2}) (?:Mon|Tue|Wed|Thu|Fri)[*]?(.*)')\n",
      "\n",
      "cal_re_1 = re.compile('((?:Jan|Feb|Mar|Apr|May|Jun|June|Jul|July|Aug|August|Sep|Sept|Oct|Nov|Dec) [\\d]{1,2}[,\\.]? [\\d]{4})(.*)')\n",
      "cal_re_2 = re.compile('(Jan|Feb|Mar|Apr|May|Jun|June|Jul|July|Aug|August|Sep|Sept|Oct|Nov|Dec) ([\\d]{1,2})-([\\d]{1,2})[,\\.] ([\\d]{4})(.*)')\n",
      "\n",
      "def load_raw_events(filename):\n",
      "    with open(filename, 'r') as ip:\n",
      "        raw = ip.read()\n",
      "    soup = BeautifulSoup(raw)\n",
      "    return [' '.join(x.stripped_strings).replace('\\r', '').replace('\\n', ' ').strip() for x in soup.find_all(['p', 'h2'])]\n",
      "\n",
      "def split_lab_meeting_calendar(raw_events):\n",
      "    split_idx = [i for i in xrange(len(raw_events)) if 'lecture tour' in raw_events[i].lower()]\n",
      "    if len(split_idx) != 1:\n",
      "        raise ValueError(\"Couldn't find the 'lecture tour' section\")\n",
      "    split_idx = split_idx[0]\n",
      "    return (raw_events[:split_idx], raw_events[split_idx:])\n",
      "    \n",
      "def parse_lab_meeting(line, year, debug=False, lm_re=lm_re_1):\n",
      "    m = lm_re.match(line)\n",
      "    if m:\n",
      "        date = parse_date(m.groups()[0])\n",
      "        if date.year == year:\n",
      "            lm = {'type': 'lab_meeting',\n",
      "                  'date': date.strftime('%Y-%m-%d'),\n",
      "                  'text': m.groups()[1].strip()}\n",
      "            return lm\n",
      "        if debug: print >>sys.stderr, \"LM Parsable wrong date: \" + line\n",
      "        return None\n",
      "    if debug: print >>sys.stderr, \"LM Not-parsable: \" + line\n",
      "    return None\n",
      "\n",
      "def parse_calendar(line, year, debug=False):\n",
      "    m = cal_re_1.match(line)\n",
      "    if m:\n",
      "        date = parse_date(m.groups()[0])\n",
      "        if date.year == year:\n",
      "            cal = {'type': 'calendar',\n",
      "                   'date': date.strftime('%Y-%m-%d'),\n",
      "                   'text': m.groups()[1].strip()}\n",
      "            return cal\n",
      "        if debug: print >>sys.stderr, \"CAL Parsable wrong date: \" + line\n",
      "        return None\n",
      "    m = cal_re_2.match(line)\n",
      "    if m:\n",
      "        date_1 = parse_date('%s %s, %s' % (m.groups()[0], m.groups()[1], m.groups()[3]))\n",
      "        date_2 = parse_date('%s %s, %s' % (m.groups()[0], m.groups()[2], m.groups()[3]))\n",
      "        if date_1.year == year or date_2.year == year:\n",
      "            cal = {'type': 'calendar',\n",
      "                   'date': date_1.strftime('%Y-%m-%d'),\n",
      "                   'start_date': date_1.strftime('%Y-%m-%d'),\n",
      "                   'end_date': date_2.strftime('%Y-%m-%d'),\n",
      "                   'text': m.groups()[4].strip()}\n",
      "            return cal\n",
      "        if debug: print >>sys.stderr, \"CAL Parsable wrong date: \" + line\n",
      "        return None\n",
      "    if debug: print >>sys.stderr, \"CAL Not-parsable: \" + line\n",
      "    return None"
     ],
     "language": "python",
     "metadata": {},
     "outputs": [],
     "prompt_number": 2
    },
    {
     "cell_type": "markdown",
     "metadata": {},
     "source": [
      "Now parse the actual raw data."
     ]
    },
    {
     "cell_type": "code",
     "collapsed": false,
     "input": [
      "lm = []\n",
      "cal = []"
     ],
     "language": "python",
     "metadata": {},
     "outputs": [],
     "prompt_number": 3
    },
    {
     "cell_type": "code",
     "collapsed": false,
     "input": [
      "raw_events = load_raw_events('raw/2014.html')\n",
      "(raw_lm, raw_cal) = split_lab_meeting_calendar(raw_events)\n",
      "lm += filter(lambda x: x is not None, [parse_lab_meeting(line, 2014) for line in raw_lm])\n",
      "cal += filter(lambda x: x is not None, [parse_calendar(line, 2014) for line in raw_cal])"
     ],
     "language": "python",
     "metadata": {},
     "outputs": [],
     "prompt_number": 4
    },
    {
     "cell_type": "code",
     "collapsed": false,
     "input": [
      "raw_events = load_raw_events('raw/2013.html')\n",
      "(raw_lm, raw_cal) = split_lab_meeting_calendar(raw_events)\n",
      "lm += filter(lambda x: x is not None, [parse_lab_meeting(line, 2013) for line in raw_lm])\n",
      "cal += filter(lambda x: x is not None, [parse_calendar(line, 2013) for line in raw_cal])"
     ],
     "language": "python",
     "metadata": {},
     "outputs": [],
     "prompt_number": 5
    },
    {
     "cell_type": "code",
     "collapsed": false,
     "input": [
      "raw_events = load_raw_events('raw/2012.html')\n",
      "(raw_lm, raw_cal) = split_lab_meeting_calendar(raw_events)\n",
      "lm += filter(lambda x: x is not None, [parse_lab_meeting(line, 2012) for line in raw_lm])\n",
      "cal += filter(lambda x: x is not None, [parse_calendar(line, 2012) for line in raw_cal])"
     ],
     "language": "python",
     "metadata": {},
     "outputs": [],
     "prompt_number": 6
    },
    {
     "cell_type": "code",
     "collapsed": false,
     "input": [
      "raw_events = load_raw_events('raw/2011.html')\n",
      "(raw_lm, raw_cal) = split_lab_meeting_calendar(raw_events)\n",
      "lm += filter(lambda x: x is not None, [parse_lab_meeting(line, 2011) for line in raw_lm])\n",
      "cal += filter(lambda x: x is not None, [parse_calendar(line, 2011) for line in raw_cal])"
     ],
     "language": "python",
     "metadata": {},
     "outputs": [],
     "prompt_number": 7
    },
    {
     "cell_type": "code",
     "collapsed": false,
     "input": [
      "raw_events = load_raw_events('raw/2010.html')\n",
      "(raw_lm, raw_cal) = split_lab_meeting_calendar(raw_events)\n",
      "lm += filter(lambda x: x is not None, [parse_lab_meeting(line, 2010) for line in raw_lm])\n",
      "cal += filter(lambda x: x is not None, [parse_calendar(line, 2010) for line in raw_cal])"
     ],
     "language": "python",
     "metadata": {},
     "outputs": [],
     "prompt_number": 8
    },
    {
     "cell_type": "code",
     "collapsed": false,
     "input": [
      "raw_events = load_raw_events('raw/2009.html')\n",
      "(raw_lm, raw_cal) = split_lab_meeting_calendar(raw_events)\n",
      "raw_lm = ['2009 ' + line for line in raw_lm if '2010' not in line]\n",
      "raw_cal = [line for line in raw_cal if '2009' in line]\n",
      "lm += filter(lambda x: x is not None, [parse_lab_meeting(line, 2009, lm_re=lm_re_2) for line in raw_lm])\n",
      "cal += filter(lambda x: x is not None, [parse_calendar(line, 2009) for line in raw_cal])"
     ],
     "language": "python",
     "metadata": {},
     "outputs": [],
     "prompt_number": 9
    },
    {
     "cell_type": "markdown",
     "metadata": {},
     "source": [
      "Add a `tags` field to each object."
     ]
    },
    {
     "cell_type": "code",
     "collapsed": false,
     "input": [
      "def insert_tags_field(x):\n",
      "    x['tags'] = []\n",
      "    return x\n",
      "lm = map(insert_tags_field, lm)\n",
      "cal = map(insert_tags_field, cal)"
     ],
     "language": "python",
     "metadata": {},
     "outputs": [],
     "prompt_number": 10
    },
    {
     "cell_type": "markdown",
     "metadata": {},
     "source": [
      "Do some further custom processing on lab meeting events.\n",
      "\n",
      "Delete the Wyss biomaterials evolution and bioenergy DJ events from lab meetings"
     ]
    },
    {
     "cell_type": "code",
     "collapsed": false,
     "input": [
      "lm = filter(lambda x: 'Wyss Biomaterials evolution meeting' not in x['text'], lm)\n",
      "lm = filter(lambda x: 'ioenergy journal club' not in x['text'].lower(), lm)\n",
      "lm = filter(lambda x: 'Bioenergy DJ' not in x['text'], lm)"
     ],
     "language": "python",
     "metadata": {},
     "outputs": [],
     "prompt_number": 11
    },
    {
     "cell_type": "markdown",
     "metadata": {},
     "source": [
      "Tag the lab meeting events that were cancelled"
     ]
    },
    {
     "cell_type": "code",
     "collapsed": false,
     "input": [
      "def tag_no_meeting(x):\n",
      "    y = x['text'].lower()\n",
      "    if (('no meeting' in y) or ('no lab meeting' in y)\n",
      "            or ('holiday' in y) or ('retreat' in y) or ('cancel' in y)):\n",
      "        x['tags'].append('canceled')\n",
      "    return x\n",
      "lm = map(tag_no_meeting, lm)"
     ],
     "language": "python",
     "metadata": {},
     "outputs": [],
     "prompt_number": 12
    },
    {
     "cell_type": "markdown",
     "metadata": {},
     "source": [
      "Tag the lab meeting events that had a guest speaker"
     ]
    },
    {
     "cell_type": "code",
     "collapsed": false,
     "input": [
      "def tag_guest(x):\n",
      "    y = x['text'].lower()\n",
      "    if ('guest' in y) or ('visitor' in y) or ('visiting' in y):\n",
      "        x['tags'].append('guest')\n",
      "    return x\n",
      "lm = map(tag_guest, lm)"
     ],
     "language": "python",
     "metadata": {},
     "outputs": [],
     "prompt_number": 13
    },
    {
     "cell_type": "markdown",
     "metadata": {},
     "source": [
      "Extract names from the text"
     ]
    },
    {
     "cell_type": "code",
     "collapsed": false,
     "input": [
      "# http://timmcnamara.co.nz/post/2650550090/extracting-names-with-6-lines-of-python-code\n",
      "def extract_names(x):\n",
      "    names = []\n",
      "    for sent in nltk.sent_tokenize(' ; ' + x['text']):\n",
      "        for chunk in nltk.ne_chunk(nltk.pos_tag(nltk.word_tokenize(sent))):\n",
      "            if hasattr(chunk, 'node') and chunk.node == 'PERSON':\n",
      "                names.append(' '.join(c[0] for c in chunk.leaves()))\n",
      "    x['names'] = names\n",
      "    return x\n",
      "\n",
      "lm = map(extract_names, lm)"
     ],
     "language": "python",
     "metadata": {},
     "outputs": [],
     "prompt_number": 14
    },
    {
     "cell_type": "markdown",
     "metadata": {},
     "source": [
      "Do some custom processing of the calendar data\n",
      "\n",
      "Tag all events that are travel or flight related"
     ]
    },
    {
     "cell_type": "code",
     "collapsed": false,
     "input": [
      "def tag_travel(x):\n",
      "    y = x['text'].lower()\n",
      "    if 'travel' in y:\n",
      "        x['tags'].append('travel')\n",
      "    if 'flight' in y:\n",
      "        x['tags'].append('flight')\n",
      "    return x\n",
      "cal = map(tag_travel, cal)"
     ],
     "language": "python",
     "metadata": {},
     "outputs": [],
     "prompt_number": 15
    },
    {
     "cell_type": "markdown",
     "metadata": {},
     "source": [
      "Extract times from calendar events"
     ]
    },
    {
     "cell_type": "code",
     "collapsed": false,
     "input": [
      "time_re = re.compile(r'(?:^|\\s+)(\\d{1,2}(?:[:.]\\d{2})?(?: ?[AaPp][Mm])?)(?:-|\\s+|,|$)(\\d{1,2}(?:[:.]\\d{2})?(?: ?[AaPp][Mm])?)?')\n",
      "format_strings = ['%I:%M %p', '%I:%M%p', '%I:%M', '%I.%M %p', '%I.%M%p', '%I.%M', '%I %p', '%I%p', '%I']\n",
      "\n",
      "def parse_time(x):\n",
      "    if x == '':\n",
      "        return None\n",
      "    for fmt in format_strings:\n",
      "        try:\n",
      "            dt = datetime.strptime(x, fmt)\n",
      "        except ValueError:\n",
      "            continue\n",
      "    if dt.year != 1900 or dt.month != 1 or dt.day != 1:\n",
      "        raise ValueError('date got messed up')\n",
      "    return dt\n",
      "\n",
      "def extract_duration(x):\n",
      "    try:\n",
      "        matches = time_re.findall(x['text'])\n",
      "        if len(matches) == 0:\n",
      "            return x\n",
      "        # find match with the longest result\n",
      "        m = max(matches, key=lambda p: max(len(p[0]), len(p[1])))\n",
      "        t1 = parse_time(m[0])\n",
      "        t2 = parse_time(m[1])\n",
      "        if t2 is None:\n",
      "            x['duration'] = 3600.\n",
      "            return x\n",
      "        td = t2 - t1\n",
      "        # no meetings longer than 12 hours\n",
      "        x['duration'] = td.total_seconds() % 43200.\n",
      "        return x\n",
      "    except Exception, e:\n",
      "        return x\n",
      "\n",
      "cal = map(extract_duration, cal)"
     ],
     "language": "python",
     "metadata": {},
     "outputs": [],
     "prompt_number": 16
    },
    {
     "cell_type": "markdown",
     "metadata": {},
     "source": [
      "Now do NER on the calendar events"
     ]
    },
    {
     "cell_type": "code",
     "collapsed": false,
     "input": [
      "# http://timmcnamara.co.nz/post/2650550090/extracting-names-with-6-lines-of-python-code\n",
      "def extract_names(x):\n",
      "    names = []\n",
      "    for sent in nltk.sent_tokenize(' ; ' + x['text']):\n",
      "        for chunk in nltk.ne_chunk(nltk.pos_tag(nltk.word_tokenize(sent)), binary=True):\n",
      "            if hasattr(chunk, 'node') and chunk.node == 'NE':\n",
      "                names.append(' '.join(c[0] for c in chunk.leaves()))\n",
      "    x['names'] = names\n",
      "    return x\n",
      "\n",
      "cal = map(extract_names, cal)"
     ],
     "language": "python",
     "metadata": {},
     "outputs": [],
     "prompt_number": 17
    },
    {
     "cell_type": "markdown",
     "metadata": {},
     "source": [
      "Write the data to disk"
     ]
    },
    {
     "cell_type": "code",
     "collapsed": false,
     "input": [
      "with open('json/lm.json', 'w') as op:\n",
      "    for x in lm:\n",
      "        print >>op, json.dumps(x)\n",
      "\n",
      "with open('json/cal.json', 'w') as op:\n",
      "    for x in cal:\n",
      "        print >>op, json.dumps(x)"
     ],
     "language": "python",
     "metadata": {},
     "outputs": [],
     "prompt_number": 19
    },
    {
     "cell_type": "code",
     "collapsed": false,
     "input": [
      "# for line in sorted([x['text'] for x in cal]): print line"
     ],
     "language": "python",
     "metadata": {},
     "outputs": [],
     "prompt_number": 20
    },
    {
     "cell_type": "code",
     "collapsed": false,
     "input": [],
     "language": "python",
     "metadata": {},
     "outputs": []
    }
   ],
   "metadata": {}
  }
 ]
}