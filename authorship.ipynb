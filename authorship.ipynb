{
 "metadata": {
  "name": "",
  "signature": "sha256:3ec16e273b5bd983edd07039290ebb1fb325e8d565e7b78a9dca04dba2ca447b"
 },
 "nbformat": 3,
 "nbformat_minor": 0,
 "worksheets": [
  {
   "cells": [
    {
     "cell_type": "markdown",
     "metadata": {},
     "source": [
      "Here we process the authorship data that Chou gave me for use with Circos.  (I believe John Aach processed it)"
     ]
    },
    {
     "cell_type": "code",
     "collapsed": false,
     "input": [
      "import json"
     ],
     "language": "python",
     "metadata": {},
     "outputs": [],
     "prompt_number": 63
    },
    {
     "cell_type": "code",
     "collapsed": false,
     "input": [
      "with open('chou/George_publications_with_lab_coauthors.07222014.txt', 'r') as ip:\n",
      "    raw = ip.readlines()\n",
      "\n",
      "pubs = []\n",
      "for line in raw:\n",
      "    line = line.strip()\n",
      "    if line == '':\n",
      "        continue\n",
      "    fields = [field.strip() for field in line.split('\\t')]\n",
      "    names = sorted([field.split()[0] for field in fields[2:]])\n",
      "    pubs.append({'year': int(fields[1]), 'authors': names})\n",
      "\n",
      "with open('json/pubs.json', 'w') as op:\n",
      "    for pub in pubs:\n",
      "        print >>op, json.dumps(pub)"
     ],
     "language": "python",
     "metadata": {},
     "outputs": [],
     "prompt_number": 64
    },
    {
     "cell_type": "code",
     "collapsed": false,
     "input": [
      "authors = set()\n",
      "for pub in pubs:\n",
      "    authors |= set(pub['authors'])"
     ],
     "language": "python",
     "metadata": {},
     "outputs": [],
     "prompt_number": 7
    },
    {
     "cell_type": "code",
     "collapsed": false,
     "input": [],
     "language": "python",
     "metadata": {},
     "outputs": []
    }
   ],
   "metadata": {}
  }
 ]
}